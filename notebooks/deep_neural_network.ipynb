{
 "cells": [
  {
   "cell_type": "code",
   "execution_count": 1,
   "id": "interim-square",
   "metadata": {},
   "outputs": [],
   "source": [
    "import pandas as pd\n",
    "import numpy as np\n",
    "import matplotlib.pyplot as plt\n",
    "from pathlib import Path\n",
    "%matplotlib inline\n",
    "from pylab import mpl, plt\n",
    "import datetime\n",
    "import tensorflow as tf\n",
    "from keras.models import Sequential\n",
    "from keras.layers import Dense\n",
    "from keras.optimizers import Adam, RMSprop\n",
    "import random"
   ]
  },
  {
   "cell_type": "code",
   "execution_count": 2,
   "id": "alien-huntington",
   "metadata": {},
   "outputs": [],
   "source": [
    "path = '../data/'"
   ]
  },
  {
   "cell_type": "code",
   "execution_count": 3,
   "id": "tired-partner",
   "metadata": {},
   "outputs": [
    {
     "data": {
      "text/html": [
       "<div>\n",
       "<style scoped>\n",
       "    .dataframe tbody tr th:only-of-type {\n",
       "        vertical-align: middle;\n",
       "    }\n",
       "\n",
       "    .dataframe tbody tr th {\n",
       "        vertical-align: top;\n",
       "    }\n",
       "\n",
       "    .dataframe thead th {\n",
       "        text-align: right;\n",
       "    }\n",
       "</style>\n",
       "<table border=\"1\" class=\"dataframe\">\n",
       "  <thead>\n",
       "    <tr style=\"text-align: right;\">\n",
       "      <th></th>\n",
       "      <th>Date</th>\n",
       "      <th>Open</th>\n",
       "      <th>High</th>\n",
       "      <th>Low</th>\n",
       "      <th>Close</th>\n",
       "      <th>Adj Close</th>\n",
       "      <th>Volume</th>\n",
       "    </tr>\n",
       "  </thead>\n",
       "  <tbody>\n",
       "    <tr>\n",
       "      <th>0</th>\n",
       "      <td>2010-01-04</td>\n",
       "      <td>10430.690430</td>\n",
       "      <td>10641.620117</td>\n",
       "      <td>10430.690430</td>\n",
       "      <td>10583.959961</td>\n",
       "      <td>10583.959961</td>\n",
       "      <td>3991400000</td>\n",
       "    </tr>\n",
       "    <tr>\n",
       "      <th>1</th>\n",
       "      <td>2010-01-05</td>\n",
       "      <td>10584.559570</td>\n",
       "      <td>10647.139648</td>\n",
       "      <td>10468.860352</td>\n",
       "      <td>10572.019531</td>\n",
       "      <td>10572.019531</td>\n",
       "      <td>2491020000</td>\n",
       "    </tr>\n",
       "    <tr>\n",
       "      <th>2</th>\n",
       "      <td>2010-01-06</td>\n",
       "      <td>10564.719727</td>\n",
       "      <td>10655.219727</td>\n",
       "      <td>10488.280273</td>\n",
       "      <td>10573.679688</td>\n",
       "      <td>10573.679688</td>\n",
       "      <td>4972660000</td>\n",
       "    </tr>\n",
       "    <tr>\n",
       "      <th>3</th>\n",
       "      <td>2010-01-07</td>\n",
       "      <td>10571.110352</td>\n",
       "      <td>10655.599609</td>\n",
       "      <td>10471.730469</td>\n",
       "      <td>10606.860352</td>\n",
       "      <td>10606.860352</td>\n",
       "      <td>5270680000</td>\n",
       "    </tr>\n",
       "    <tr>\n",
       "      <th>4</th>\n",
       "      <td>2010-01-08</td>\n",
       "      <td>10606.400391</td>\n",
       "      <td>10653.110352</td>\n",
       "      <td>10509.740234</td>\n",
       "      <td>10618.190430</td>\n",
       "      <td>10618.190430</td>\n",
       "      <td>4389590000</td>\n",
       "    </tr>\n",
       "    <tr>\n",
       "      <th>...</th>\n",
       "      <td>...</td>\n",
       "      <td>...</td>\n",
       "      <td>...</td>\n",
       "      <td>...</td>\n",
       "      <td>...</td>\n",
       "      <td>...</td>\n",
       "      <td>...</td>\n",
       "    </tr>\n",
       "    <tr>\n",
       "      <th>2258</th>\n",
       "      <td>2018-12-21</td>\n",
       "      <td>22871.740234</td>\n",
       "      <td>23285.759766</td>\n",
       "      <td>22356.619141</td>\n",
       "      <td>22445.369141</td>\n",
       "      <td>22445.369141</td>\n",
       "      <td>7609010000</td>\n",
       "    </tr>\n",
       "    <tr>\n",
       "      <th>2259</th>\n",
       "      <td>2018-12-24</td>\n",
       "      <td>22317.279297</td>\n",
       "      <td>22438.759766</td>\n",
       "      <td>21751.589844</td>\n",
       "      <td>21792.199219</td>\n",
       "      <td>21792.199219</td>\n",
       "      <td>2613930000</td>\n",
       "    </tr>\n",
       "    <tr>\n",
       "      <th>2260</th>\n",
       "      <td>2018-12-26</td>\n",
       "      <td>21857.730469</td>\n",
       "      <td>22887.060547</td>\n",
       "      <td>21668.529297</td>\n",
       "      <td>22878.449219</td>\n",
       "      <td>22878.449219</td>\n",
       "      <td>4233990000</td>\n",
       "    </tr>\n",
       "    <tr>\n",
       "      <th>2261</th>\n",
       "      <td>2018-12-27</td>\n",
       "      <td>22629.060547</td>\n",
       "      <td>23144.720703</td>\n",
       "      <td>22233.449219</td>\n",
       "      <td>23138.820313</td>\n",
       "      <td>23138.820313</td>\n",
       "      <td>4096610000</td>\n",
       "    </tr>\n",
       "    <tr>\n",
       "      <th>2262</th>\n",
       "      <td>2018-12-28</td>\n",
       "      <td>23213.609375</td>\n",
       "      <td>23426.169922</td>\n",
       "      <td>22928.179688</td>\n",
       "      <td>23062.400391</td>\n",
       "      <td>23062.400391</td>\n",
       "      <td>3702620000</td>\n",
       "    </tr>\n",
       "  </tbody>\n",
       "</table>\n",
       "<p>2263 rows × 7 columns</p>\n",
       "</div>"
      ],
      "text/plain": [
       "            Date          Open          High           Low         Close  \\\n",
       "0     2010-01-04  10430.690430  10641.620117  10430.690430  10583.959961   \n",
       "1     2010-01-05  10584.559570  10647.139648  10468.860352  10572.019531   \n",
       "2     2010-01-06  10564.719727  10655.219727  10488.280273  10573.679688   \n",
       "3     2010-01-07  10571.110352  10655.599609  10471.730469  10606.860352   \n",
       "4     2010-01-08  10606.400391  10653.110352  10509.740234  10618.190430   \n",
       "...          ...           ...           ...           ...           ...   \n",
       "2258  2018-12-21  22871.740234  23285.759766  22356.619141  22445.369141   \n",
       "2259  2018-12-24  22317.279297  22438.759766  21751.589844  21792.199219   \n",
       "2260  2018-12-26  21857.730469  22887.060547  21668.529297  22878.449219   \n",
       "2261  2018-12-27  22629.060547  23144.720703  22233.449219  23138.820313   \n",
       "2262  2018-12-28  23213.609375  23426.169922  22928.179688  23062.400391   \n",
       "\n",
       "         Adj Close      Volume  \n",
       "0     10583.959961  3991400000  \n",
       "1     10572.019531  2491020000  \n",
       "2     10573.679688  4972660000  \n",
       "3     10606.860352  5270680000  \n",
       "4     10618.190430  4389590000  \n",
       "...            ...         ...  \n",
       "2258  22445.369141  7609010000  \n",
       "2259  21792.199219  2613930000  \n",
       "2260  22878.449219  4233990000  \n",
       "2261  23138.820313  4096610000  \n",
       "2262  23062.400391  3702620000  \n",
       "\n",
       "[2263 rows x 7 columns]"
      ]
     },
     "execution_count": 3,
     "metadata": {},
     "output_type": "execute_result"
    }
   ],
   "source": [
    "djia = pd.read_csv(path+'djia_.csv')\n",
    "djia"
   ]
  },
  {
   "cell_type": "code",
   "execution_count": 4,
   "id": "prospective-dutch",
   "metadata": {},
   "outputs": [
    {
     "data": {
      "text/plain": [
       "0"
      ]
     },
     "execution_count": 4,
     "metadata": {},
     "output_type": "execute_result"
    }
   ],
   "source": [
    "djia.dropna(axis=0, how='all', inplace=True)\n",
    "djia.dropna(axis=1, how='any', inplace=True)\n",
    "djia.isna().sum().sum()"
   ]
  },
  {
   "cell_type": "code",
   "execution_count": 5,
   "id": "african-process",
   "metadata": {},
   "outputs": [],
   "source": [
    "djia.set_index('Date', inplace=True)"
   ]
  },
  {
   "cell_type": "code",
   "execution_count": 6,
   "id": "steady-korea",
   "metadata": {},
   "outputs": [
    {
     "name": "stdout",
     "output_type": "stream",
     "text": [
      "<class 'pandas.core.frame.DataFrame'>\n",
      "Index: 2263 entries, 2010-01-04 to 2018-12-28\n",
      "Data columns (total 6 columns):\n",
      " #   Column     Non-Null Count  Dtype  \n",
      "---  ------     --------------  -----  \n",
      " 0   Open       2263 non-null   float64\n",
      " 1   High       2263 non-null   float64\n",
      " 2   Low        2263 non-null   float64\n",
      " 3   Close      2263 non-null   float64\n",
      " 4   Adj Close  2263 non-null   float64\n",
      " 5   Volume     2263 non-null   int64  \n",
      "dtypes: float64(5), int64(1)\n",
      "memory usage: 123.8+ KB\n"
     ]
    }
   ],
   "source": [
    "djia.info()"
   ]
  },
  {
   "cell_type": "code",
   "execution_count": null,
   "id": "corrected-comment",
   "metadata": {},
   "outputs": [],
   "source": []
  },
  {
   "cell_type": "code",
   "execution_count": null,
   "id": "aquatic-raising",
   "metadata": {},
   "outputs": [],
   "source": []
  },
  {
   "cell_type": "code",
   "execution_count": 7,
   "id": "configured-month",
   "metadata": {},
   "outputs": [],
   "source": [
    "djia_close = djia[['Close']].copy()"
   ]
  },
  {
   "cell_type": "code",
   "execution_count": 8,
   "id": "hollow-deposit",
   "metadata": {},
   "outputs": [],
   "source": [
    "djia_close.rename(columns={'Close' : 'price'}, inplace=True)"
   ]
  },
  {
   "cell_type": "code",
   "execution_count": null,
   "id": "union-duplicate",
   "metadata": {},
   "outputs": [],
   "source": []
  },
  {
   "cell_type": "code",
   "execution_count": 9,
   "id": "living-coating",
   "metadata": {},
   "outputs": [],
   "source": [
    "djia_close['return'] = np.log(djia_close[['price']] / \n",
    "                            djia_close[['price']].shift(1))"
   ]
  },
  {
   "cell_type": "code",
   "execution_count": 10,
   "id": "consistent-local",
   "metadata": {},
   "outputs": [],
   "source": [
    "djia_close['direction'] = np.where(djia_close['return']> 0, 1, 0)"
   ]
  },
  {
   "cell_type": "code",
   "execution_count": 11,
   "id": "diagnostic-bahamas",
   "metadata": {},
   "outputs": [],
   "source": [
    "lags = 5"
   ]
  },
  {
   "cell_type": "code",
   "execution_count": 12,
   "id": "cardiovascular-priest",
   "metadata": {},
   "outputs": [],
   "source": [
    "cols = []"
   ]
  },
  {
   "cell_type": "code",
   "execution_count": 13,
   "id": "explicit-resident",
   "metadata": {},
   "outputs": [],
   "source": [
    "for lag in range(1, lags + 1):\n",
    "    col = f'lag_{lag}'\n",
    "    djia_close[col] = djia_close['return'].shift(lag)\n",
    "    cols.append(col)\n",
    "djia_close.dropna(inplace=True)"
   ]
  },
  {
   "cell_type": "code",
   "execution_count": 14,
   "id": "damaged-notebook",
   "metadata": {},
   "outputs": [
    {
     "data": {
      "text/html": [
       "<div>\n",
       "<style scoped>\n",
       "    .dataframe tbody tr th:only-of-type {\n",
       "        vertical-align: middle;\n",
       "    }\n",
       "\n",
       "    .dataframe tbody tr th {\n",
       "        vertical-align: top;\n",
       "    }\n",
       "\n",
       "    .dataframe thead th {\n",
       "        text-align: right;\n",
       "    }\n",
       "</style>\n",
       "<table border=\"1\" class=\"dataframe\">\n",
       "  <thead>\n",
       "    <tr style=\"text-align: right;\">\n",
       "      <th></th>\n",
       "      <th>price</th>\n",
       "      <th>return</th>\n",
       "      <th>direction</th>\n",
       "      <th>lag_1</th>\n",
       "      <th>lag_2</th>\n",
       "      <th>lag_3</th>\n",
       "      <th>lag_4</th>\n",
       "      <th>lag_5</th>\n",
       "    </tr>\n",
       "    <tr>\n",
       "      <th>Date</th>\n",
       "      <th></th>\n",
       "      <th></th>\n",
       "      <th></th>\n",
       "      <th></th>\n",
       "      <th></th>\n",
       "      <th></th>\n",
       "      <th></th>\n",
       "      <th></th>\n",
       "    </tr>\n",
       "  </thead>\n",
       "  <tbody>\n",
       "    <tr>\n",
       "      <th>2018-12-21</th>\n",
       "      <td>22445.3691</td>\n",
       "      <td>-0.0183</td>\n",
       "      <td>0</td>\n",
       "      <td>-0.0201</td>\n",
       "      <td>-0.0150</td>\n",
       "      <td>0.0035</td>\n",
       "      <td>-0.0213</td>\n",
       "      <td>-0.0204</td>\n",
       "    </tr>\n",
       "    <tr>\n",
       "      <th>2018-12-24</th>\n",
       "      <td>21792.1992</td>\n",
       "      <td>-0.0295</td>\n",
       "      <td>0</td>\n",
       "      <td>-0.0183</td>\n",
       "      <td>-0.0201</td>\n",
       "      <td>-0.0150</td>\n",
       "      <td>0.0035</td>\n",
       "      <td>-0.0213</td>\n",
       "    </tr>\n",
       "    <tr>\n",
       "      <th>2018-12-26</th>\n",
       "      <td>22878.4492</td>\n",
       "      <td>0.0486</td>\n",
       "      <td>1</td>\n",
       "      <td>-0.0295</td>\n",
       "      <td>-0.0183</td>\n",
       "      <td>-0.0201</td>\n",
       "      <td>-0.0150</td>\n",
       "      <td>0.0035</td>\n",
       "    </tr>\n",
       "    <tr>\n",
       "      <th>2018-12-27</th>\n",
       "      <td>23138.8203</td>\n",
       "      <td>0.0113</td>\n",
       "      <td>1</td>\n",
       "      <td>0.0486</td>\n",
       "      <td>-0.0295</td>\n",
       "      <td>-0.0183</td>\n",
       "      <td>-0.0201</td>\n",
       "      <td>-0.0150</td>\n",
       "    </tr>\n",
       "    <tr>\n",
       "      <th>2018-12-28</th>\n",
       "      <td>23062.4004</td>\n",
       "      <td>-0.0033</td>\n",
       "      <td>0</td>\n",
       "      <td>0.0113</td>\n",
       "      <td>0.0486</td>\n",
       "      <td>-0.0295</td>\n",
       "      <td>-0.0183</td>\n",
       "      <td>-0.0201</td>\n",
       "    </tr>\n",
       "  </tbody>\n",
       "</table>\n",
       "</div>"
      ],
      "text/plain": [
       "                 price  return  direction   lag_1   lag_2   lag_3   lag_4  \\\n",
       "Date                                                                        \n",
       "2018-12-21  22445.3691 -0.0183          0 -0.0201 -0.0150  0.0035 -0.0213   \n",
       "2018-12-24  21792.1992 -0.0295          0 -0.0183 -0.0201 -0.0150  0.0035   \n",
       "2018-12-26  22878.4492  0.0486          1 -0.0295 -0.0183 -0.0201 -0.0150   \n",
       "2018-12-27  23138.8203  0.0113          1  0.0486 -0.0295 -0.0183 -0.0201   \n",
       "2018-12-28  23062.4004 -0.0033          0  0.0113  0.0486 -0.0295 -0.0183   \n",
       "\n",
       "             lag_5  \n",
       "Date                \n",
       "2018-12-21 -0.0204  \n",
       "2018-12-24 -0.0213  \n",
       "2018-12-26  0.0035  \n",
       "2018-12-27 -0.0150  \n",
       "2018-12-28 -0.0201  "
      ]
     },
     "execution_count": 14,
     "metadata": {},
     "output_type": "execute_result"
    }
   ],
   "source": [
    "djia_close.round(4).tail()"
   ]
  },
  {
   "cell_type": "code",
   "execution_count": 15,
   "id": "loving-defense",
   "metadata": {},
   "outputs": [
    {
     "name": "stdout",
     "output_type": "stream",
     "text": [
      "Requirement already satisfied: tensorflow in c:\\users\\jbarr\\anaconda3\\envs\\dev\\lib\\site-packages (2.0.0)\n",
      "Requirement already satisfied: keras-preprocessing>=1.0.5 in c:\\users\\jbarr\\anaconda3\\envs\\dev\\lib\\site-packages (from tensorflow) (1.1.2)\n",
      "Requirement already satisfied: absl-py>=0.7.0 in c:\\users\\jbarr\\anaconda3\\envs\\dev\\lib\\site-packages (from tensorflow) (0.12.0)\n",
      "Requirement already satisfied: opt-einsum>=2.3.2 in c:\\users\\jbarr\\anaconda3\\envs\\dev\\lib\\site-packages (from tensorflow) (3.3.0)\n",
      "Requirement already satisfied: tensorboard<2.1.0,>=2.0.0 in c:\\users\\jbarr\\anaconda3\\envs\\dev\\lib\\site-packages (from tensorflow) (2.0.2)\n",
      "Requirement already satisfied: tensorflow-estimator<2.1.0,>=2.0.0 in c:\\users\\jbarr\\anaconda3\\envs\\dev\\lib\\site-packages (from tensorflow) (2.0.1)\n",
      "Requirement already satisfied: six>=1.10.0 in c:\\users\\jbarr\\anaconda3\\envs\\dev\\lib\\site-packages (from tensorflow) (1.12.0)\n",
      "Requirement already satisfied: wheel>=0.26 in c:\\users\\jbarr\\anaconda3\\envs\\dev\\lib\\site-packages (from tensorflow) (0.36.2)\n",
      "Requirement already satisfied: keras-applications>=1.0.8 in c:\\users\\jbarr\\anaconda3\\envs\\dev\\lib\\site-packages (from tensorflow) (1.0.8)\n",
      "Requirement already satisfied: gast==0.2.2 in c:\\users\\jbarr\\anaconda3\\envs\\dev\\lib\\site-packages (from tensorflow) (0.2.2)\n",
      "Requirement already satisfied: google-pasta>=0.1.6 in c:\\users\\jbarr\\anaconda3\\envs\\dev\\lib\\site-packages (from tensorflow) (0.2.0)\n",
      "Requirement already satisfied: wrapt>=1.11.1 in c:\\users\\jbarr\\anaconda3\\envs\\dev\\lib\\site-packages (from tensorflow) (1.12.1)\n",
      "Requirement already satisfied: numpy<2.0,>=1.16.0 in c:\\users\\jbarr\\anaconda3\\envs\\dev\\lib\\site-packages (from tensorflow) (1.19.5)\n",
      "Requirement already satisfied: termcolor>=1.1.0 in c:\\users\\jbarr\\anaconda3\\envs\\dev\\lib\\site-packages (from tensorflow) (1.1.0)\n",
      "Requirement already satisfied: grpcio>=1.8.6 in c:\\users\\jbarr\\anaconda3\\envs\\dev\\lib\\site-packages (from tensorflow) (1.36.1)\n",
      "Requirement already satisfied: protobuf>=3.6.1 in c:\\users\\jbarr\\anaconda3\\envs\\dev\\lib\\site-packages (from tensorflow) (3.14.0)\n",
      "Requirement already satisfied: astor>=0.6.0 in c:\\users\\jbarr\\anaconda3\\envs\\dev\\lib\\site-packages (from tensorflow) (0.8.1)\n",
      "Requirement already satisfied: h5py in c:\\users\\jbarr\\anaconda3\\envs\\dev\\lib\\site-packages (from keras-applications>=1.0.8->tensorflow) (3.1.0)\n",
      "Requirement already satisfied: google-auth<2,>=1.6.3 in c:\\users\\jbarr\\anaconda3\\envs\\dev\\lib\\site-packages (from tensorboard<2.1.0,>=2.0.0->tensorflow) (1.24.0)\n",
      "Requirement already satisfied: setuptools>=41.0.0 in c:\\users\\jbarr\\anaconda3\\envs\\dev\\lib\\site-packages (from tensorboard<2.1.0,>=2.0.0->tensorflow) (52.0.0.post20210125)\n",
      "Requirement already satisfied: requests<3,>=2.21.0 in c:\\users\\jbarr\\anaconda3\\envs\\dev\\lib\\site-packages (from tensorboard<2.1.0,>=2.0.0->tensorflow) (2.25.1)\n",
      "Requirement already satisfied: markdown>=2.6.8 in c:\\users\\jbarr\\anaconda3\\envs\\dev\\lib\\site-packages (from tensorboard<2.1.0,>=2.0.0->tensorflow) (3.3.4)\n",
      "Requirement already satisfied: werkzeug>=0.11.15 in c:\\users\\jbarr\\anaconda3\\envs\\dev\\lib\\site-packages (from tensorboard<2.1.0,>=2.0.0->tensorflow) (1.0.1)\n",
      "Requirement already satisfied: google-auth-oauthlib<0.5,>=0.4.1 in c:\\users\\jbarr\\anaconda3\\envs\\dev\\lib\\site-packages (from tensorboard<2.1.0,>=2.0.0->tensorflow) (0.4.2)\n",
      "Requirement already satisfied: rsa<5,>=3.1.4 in c:\\users\\jbarr\\anaconda3\\envs\\dev\\lib\\site-packages (from google-auth<2,>=1.6.3->tensorboard<2.1.0,>=2.0.0->tensorflow) (4.6)\n",
      "Requirement already satisfied: pyasn1-modules>=0.2.1 in c:\\users\\jbarr\\anaconda3\\envs\\dev\\lib\\site-packages (from google-auth<2,>=1.6.3->tensorboard<2.1.0,>=2.0.0->tensorflow) (0.2.8)\n",
      "Requirement already satisfied: cachetools<5.0,>=2.0.0 in c:\\users\\jbarr\\anaconda3\\envs\\dev\\lib\\site-packages (from google-auth<2,>=1.6.3->tensorboard<2.1.0,>=2.0.0->tensorflow) (4.2.0)\n",
      "Requirement already satisfied: requests-oauthlib>=0.7.0 in c:\\users\\jbarr\\anaconda3\\envs\\dev\\lib\\site-packages (from google-auth-oauthlib<0.5,>=0.4.1->tensorboard<2.1.0,>=2.0.0->tensorflow) (1.3.0)\n",
      "Requirement already satisfied: importlib-metadata in c:\\users\\jbarr\\anaconda3\\envs\\dev\\lib\\site-packages (from markdown>=2.6.8->tensorboard<2.1.0,>=2.0.0->tensorflow) (2.0.0)\n",
      "Requirement already satisfied: pyasn1<0.5.0,>=0.4.6 in c:\\users\\jbarr\\anaconda3\\envs\\dev\\lib\\site-packages (from pyasn1-modules>=0.2.1->google-auth<2,>=1.6.3->tensorboard<2.1.0,>=2.0.0->tensorflow) (0.4.8)\n",
      "Requirement already satisfied: urllib3<1.27,>=1.21.1 in c:\\users\\jbarr\\anaconda3\\envs\\dev\\lib\\site-packages (from requests<3,>=2.21.0->tensorboard<2.1.0,>=2.0.0->tensorflow) (1.26.3)\n",
      "Requirement already satisfied: chardet<5,>=3.0.2 in c:\\users\\jbarr\\anaconda3\\envs\\dev\\lib\\site-packages (from requests<3,>=2.21.0->tensorboard<2.1.0,>=2.0.0->tensorflow) (3.0.4)\n",
      "Requirement already satisfied: idna<3,>=2.5 in c:\\users\\jbarr\\anaconda3\\envs\\dev\\lib\\site-packages (from requests<3,>=2.21.0->tensorboard<2.1.0,>=2.0.0->tensorflow) (2.10)\n",
      "Requirement already satisfied: certifi>=2017.4.17 in c:\\users\\jbarr\\anaconda3\\envs\\dev\\lib\\site-packages (from requests<3,>=2.21.0->tensorboard<2.1.0,>=2.0.0->tensorflow) (2020.12.5)\n",
      "Requirement already satisfied: oauthlib>=3.0.0 in c:\\users\\jbarr\\anaconda3\\envs\\dev\\lib\\site-packages (from requests-oauthlib>=0.7.0->google-auth-oauthlib<0.5,>=0.4.1->tensorboard<2.1.0,>=2.0.0->tensorflow) (3.1.0)\n",
      "Requirement already satisfied: cached-property in c:\\users\\jbarr\\anaconda3\\envs\\dev\\lib\\site-packages (from h5py->keras-applications>=1.0.8->tensorflow) (1.5.2)\n",
      "Requirement already satisfied: zipp>=0.5 in c:\\users\\jbarr\\anaconda3\\envs\\dev\\lib\\site-packages (from importlib-metadata->markdown>=2.6.8->tensorboard<2.1.0,>=2.0.0->tensorflow) (3.4.0)\n"
     ]
    }
   ],
   "source": []
  },
  {
   "cell_type": "code",
   "execution_count": 16,
   "id": "charming-invasion",
   "metadata": {},
   "outputs": [
    {
     "name": "stderr",
     "output_type": "stream",
     "text": [
      "C:\\Users\\JBarr\\anaconda3\\envs\\dev\\lib\\site-packages\\tensorflow\\python\\framework\\dtypes.py:516: FutureWarning: Passing (type, 1) or '1type' as a synonym of type is deprecated; in a future version of numpy, it will be understood as (type, (1,)) / '(1,)type'.\n",
      "  _np_qint8 = np.dtype([(\"qint8\", np.int8, 1)])\n",
      "C:\\Users\\JBarr\\anaconda3\\envs\\dev\\lib\\site-packages\\tensorflow\\python\\framework\\dtypes.py:517: FutureWarning: Passing (type, 1) or '1type' as a synonym of type is deprecated; in a future version of numpy, it will be understood as (type, (1,)) / '(1,)type'.\n",
      "  _np_quint8 = np.dtype([(\"quint8\", np.uint8, 1)])\n",
      "C:\\Users\\JBarr\\anaconda3\\envs\\dev\\lib\\site-packages\\tensorflow\\python\\framework\\dtypes.py:518: FutureWarning: Passing (type, 1) or '1type' as a synonym of type is deprecated; in a future version of numpy, it will be understood as (type, (1,)) / '(1,)type'.\n",
      "  _np_qint16 = np.dtype([(\"qint16\", np.int16, 1)])\n",
      "C:\\Users\\JBarr\\anaconda3\\envs\\dev\\lib\\site-packages\\tensorflow\\python\\framework\\dtypes.py:519: FutureWarning: Passing (type, 1) or '1type' as a synonym of type is deprecated; in a future version of numpy, it will be understood as (type, (1,)) / '(1,)type'.\n",
      "  _np_quint16 = np.dtype([(\"quint16\", np.uint16, 1)])\n",
      "C:\\Users\\JBarr\\anaconda3\\envs\\dev\\lib\\site-packages\\tensorflow\\python\\framework\\dtypes.py:520: FutureWarning: Passing (type, 1) or '1type' as a synonym of type is deprecated; in a future version of numpy, it will be understood as (type, (1,)) / '(1,)type'.\n",
      "  _np_qint32 = np.dtype([(\"qint32\", np.int32, 1)])\n",
      "C:\\Users\\JBarr\\anaconda3\\envs\\dev\\lib\\site-packages\\tensorflow\\python\\framework\\dtypes.py:525: FutureWarning: Passing (type, 1) or '1type' as a synonym of type is deprecated; in a future version of numpy, it will be understood as (type, (1,)) / '(1,)type'.\n",
      "  np_resource = np.dtype([(\"resource\", np.ubyte, 1)])\n",
      "C:\\Users\\JBarr\\anaconda3\\envs\\dev\\lib\\site-packages\\tensorboard\\compat\\tensorflow_stub\\dtypes.py:541: FutureWarning: Passing (type, 1) or '1type' as a synonym of type is deprecated; in a future version of numpy, it will be understood as (type, (1,)) / '(1,)type'.\n",
      "  _np_qint8 = np.dtype([(\"qint8\", np.int8, 1)])\n",
      "C:\\Users\\JBarr\\anaconda3\\envs\\dev\\lib\\site-packages\\tensorboard\\compat\\tensorflow_stub\\dtypes.py:542: FutureWarning: Passing (type, 1) or '1type' as a synonym of type is deprecated; in a future version of numpy, it will be understood as (type, (1,)) / '(1,)type'.\n",
      "  _np_quint8 = np.dtype([(\"quint8\", np.uint8, 1)])\n",
      "C:\\Users\\JBarr\\anaconda3\\envs\\dev\\lib\\site-packages\\tensorboard\\compat\\tensorflow_stub\\dtypes.py:543: FutureWarning: Passing (type, 1) or '1type' as a synonym of type is deprecated; in a future version of numpy, it will be understood as (type, (1,)) / '(1,)type'.\n",
      "  _np_qint16 = np.dtype([(\"qint16\", np.int16, 1)])\n",
      "C:\\Users\\JBarr\\anaconda3\\envs\\dev\\lib\\site-packages\\tensorboard\\compat\\tensorflow_stub\\dtypes.py:544: FutureWarning: Passing (type, 1) or '1type' as a synonym of type is deprecated; in a future version of numpy, it will be understood as (type, (1,)) / '(1,)type'.\n",
      "  _np_quint16 = np.dtype([(\"quint16\", np.uint16, 1)])\n",
      "C:\\Users\\JBarr\\anaconda3\\envs\\dev\\lib\\site-packages\\tensorboard\\compat\\tensorflow_stub\\dtypes.py:545: FutureWarning: Passing (type, 1) or '1type' as a synonym of type is deprecated; in a future version of numpy, it will be understood as (type, (1,)) / '(1,)type'.\n",
      "  _np_qint32 = np.dtype([(\"qint32\", np.int32, 1)])\n",
      "C:\\Users\\JBarr\\anaconda3\\envs\\dev\\lib\\site-packages\\tensorboard\\compat\\tensorflow_stub\\dtypes.py:550: FutureWarning: Passing (type, 1) or '1type' as a synonym of type is deprecated; in a future version of numpy, it will be understood as (type, (1,)) / '(1,)type'.\n",
      "  np_resource = np.dtype([(\"resource\", np.ubyte, 1)])\n",
      "Using TensorFlow backend.\n"
     ]
    }
   ],
   "source": []
  },
  {
   "cell_type": "code",
   "execution_count": 17,
   "id": "humanitarian-webcam",
   "metadata": {},
   "outputs": [],
   "source": [
    "optimizer = Adam(learning_rate=0.0001)"
   ]
  },
  {
   "cell_type": "code",
   "execution_count": 18,
   "id": "complete-thomas",
   "metadata": {},
   "outputs": [],
   "source": [
    "def set_seeds(seed=100):\n",
    "    random.seed(seed)\n",
    "    np.random.seed(seed)\n",
    "    tf.set_random_seed(100)"
   ]
  },
  {
   "cell_type": "code",
   "execution_count": null,
   "id": "incident-indonesian",
   "metadata": {},
   "outputs": [],
   "source": []
  },
  {
   "cell_type": "code",
   "execution_count": 19,
   "id": "associate-tours",
   "metadata": {},
   "outputs": [
    {
     "name": "stdout",
     "output_type": "stream",
     "text": [
      "WARNING:tensorflow:From C:\\Users\\JBarr\\anaconda3\\envs\\dev\\lib\\site-packages\\tensorflow\\python\\ops\\nn_impl.py:180: add_dispatch_support.<locals>.wrapper (from tensorflow.python.ops.array_ops) is deprecated and will be removed in a future version.\n",
      "Instructions for updating:\n",
      "Use tf.where in 2.0, which has the same broadcast rule as np.where\n"
     ]
    }
   ],
   "source": [
    "set_seeds()\n",
    "model = Sequential()\n",
    "model.add(Dense(64, activation='relu',\n",
    "               input_shape=(lags,)))\n",
    "model.add(Dense(64, activation='relu'))\n",
    "model.add(Dense(1, activation='sigmoid'))\n",
    "model.compile(optimizer=optimizer,\n",
    "             loss='binary_crossentropy',\n",
    "             metrics=['accuracy'])"
   ]
  },
  {
   "cell_type": "code",
   "execution_count": 20,
   "id": "forbidden-sweden",
   "metadata": {},
   "outputs": [],
   "source": [
    "cutoff = '2017-10-31'"
   ]
  },
  {
   "cell_type": "code",
   "execution_count": 21,
   "id": "weird-touch",
   "metadata": {},
   "outputs": [],
   "source": [
    "training_data = djia_close[djia_close.index < cutoff].copy()"
   ]
  },
  {
   "cell_type": "code",
   "execution_count": 22,
   "id": "deluxe-session",
   "metadata": {},
   "outputs": [],
   "source": [
    "mu, std = training_data.mean(), training_data.std()"
   ]
  },
  {
   "cell_type": "code",
   "execution_count": 23,
   "id": "appointed-invasion",
   "metadata": {},
   "outputs": [],
   "source": [
    "training_data_ = (training_data - mu) / std"
   ]
  },
  {
   "cell_type": "code",
   "execution_count": 24,
   "id": "dirty-status",
   "metadata": {},
   "outputs": [],
   "source": [
    "test_data = djia_close[djia_close.index >= cutoff].copy()"
   ]
  },
  {
   "cell_type": "code",
   "execution_count": 25,
   "id": "neural-gauge",
   "metadata": {},
   "outputs": [],
   "source": [
    "test_data_ = (test_data - mu) / std"
   ]
  },
  {
   "cell_type": "code",
   "execution_count": 26,
   "id": "champion-crossing",
   "metadata": {},
   "outputs": [
    {
     "name": "stdout",
     "output_type": "stream",
     "text": [
      "WARNING:tensorflow:From C:\\Users\\JBarr\\anaconda3\\envs\\dev\\lib\\site-packages\\keras\\backend\\tensorflow_backend.py:422: The name tf.global_variables is deprecated. Please use tf.compat.v1.global_variables instead.\n",
      "\n",
      "Wall time: 9.41 s\n"
     ]
    },
    {
     "data": {
      "text/plain": [
       "<keras.callbacks.callbacks.History at 0x26a7eb20148>"
      ]
     },
     "execution_count": 26,
     "metadata": {},
     "output_type": "execute_result"
    }
   ],
   "source": [
    "%%time\n",
    "model.fit(training_data[cols],\n",
    "          training_data['direction'],\n",
    "          epochs=300, verbose=False,\n",
    "          validation_split=0.2, shuffle=False)"
   ]
  },
  {
   "cell_type": "code",
   "execution_count": 27,
   "id": "advance-administrator",
   "metadata": {},
   "outputs": [],
   "source": [
    "res = pd.DataFrame(model.history.history)"
   ]
  },
  {
   "cell_type": "code",
   "execution_count": 28,
   "id": "printable-answer",
   "metadata": {},
   "outputs": [
    {
     "data": {
      "text/html": [
       "<div>\n",
       "<style scoped>\n",
       "    .dataframe tbody tr th:only-of-type {\n",
       "        vertical-align: middle;\n",
       "    }\n",
       "\n",
       "    .dataframe tbody tr th {\n",
       "        vertical-align: top;\n",
       "    }\n",
       "\n",
       "    .dataframe thead th {\n",
       "        text-align: right;\n",
       "    }\n",
       "</style>\n",
       "<table border=\"1\" class=\"dataframe\">\n",
       "  <thead>\n",
       "    <tr style=\"text-align: right;\">\n",
       "      <th></th>\n",
       "      <th>val_loss</th>\n",
       "      <th>val_accuracy</th>\n",
       "      <th>loss</th>\n",
       "      <th>accuracy</th>\n",
       "    </tr>\n",
       "  </thead>\n",
       "  <tbody>\n",
       "    <tr>\n",
       "      <th>0</th>\n",
       "      <td>0.692557</td>\n",
       "      <td>0.547074</td>\n",
       "      <td>0.692976</td>\n",
       "      <td>0.526718</td>\n",
       "    </tr>\n",
       "    <tr>\n",
       "      <th>1</th>\n",
       "      <td>0.692011</td>\n",
       "      <td>0.547074</td>\n",
       "      <td>0.692505</td>\n",
       "      <td>0.538168</td>\n",
       "    </tr>\n",
       "    <tr>\n",
       "      <th>2</th>\n",
       "      <td>0.691474</td>\n",
       "      <td>0.547074</td>\n",
       "      <td>0.692070</td>\n",
       "      <td>0.538168</td>\n",
       "    </tr>\n",
       "    <tr>\n",
       "      <th>3</th>\n",
       "      <td>0.690982</td>\n",
       "      <td>0.547074</td>\n",
       "      <td>0.691670</td>\n",
       "      <td>0.538168</td>\n",
       "    </tr>\n",
       "    <tr>\n",
       "      <th>4</th>\n",
       "      <td>0.690559</td>\n",
       "      <td>0.547074</td>\n",
       "      <td>0.691328</td>\n",
       "      <td>0.538168</td>\n",
       "    </tr>\n",
       "    <tr>\n",
       "      <th>...</th>\n",
       "      <td>...</td>\n",
       "      <td>...</td>\n",
       "      <td>...</td>\n",
       "      <td>...</td>\n",
       "    </tr>\n",
       "    <tr>\n",
       "      <th>295</th>\n",
       "      <td>0.687805</td>\n",
       "      <td>0.534351</td>\n",
       "      <td>0.687077</td>\n",
       "      <td>0.549618</td>\n",
       "    </tr>\n",
       "    <tr>\n",
       "      <th>296</th>\n",
       "      <td>0.687803</td>\n",
       "      <td>0.534351</td>\n",
       "      <td>0.687064</td>\n",
       "      <td>0.549618</td>\n",
       "    </tr>\n",
       "    <tr>\n",
       "      <th>297</th>\n",
       "      <td>0.687803</td>\n",
       "      <td>0.534351</td>\n",
       "      <td>0.687051</td>\n",
       "      <td>0.549618</td>\n",
       "    </tr>\n",
       "    <tr>\n",
       "      <th>298</th>\n",
       "      <td>0.687799</td>\n",
       "      <td>0.534351</td>\n",
       "      <td>0.687040</td>\n",
       "      <td>0.549618</td>\n",
       "    </tr>\n",
       "    <tr>\n",
       "      <th>299</th>\n",
       "      <td>0.687796</td>\n",
       "      <td>0.534351</td>\n",
       "      <td>0.687027</td>\n",
       "      <td>0.550254</td>\n",
       "    </tr>\n",
       "  </tbody>\n",
       "</table>\n",
       "<p>300 rows × 4 columns</p>\n",
       "</div>"
      ],
      "text/plain": [
       "     val_loss  val_accuracy      loss  accuracy\n",
       "0    0.692557      0.547074  0.692976  0.526718\n",
       "1    0.692011      0.547074  0.692505  0.538168\n",
       "2    0.691474      0.547074  0.692070  0.538168\n",
       "3    0.690982      0.547074  0.691670  0.538168\n",
       "4    0.690559      0.547074  0.691328  0.538168\n",
       "..        ...           ...       ...       ...\n",
       "295  0.687805      0.534351  0.687077  0.549618\n",
       "296  0.687803      0.534351  0.687064  0.549618\n",
       "297  0.687803      0.534351  0.687051  0.549618\n",
       "298  0.687799      0.534351  0.687040  0.549618\n",
       "299  0.687796      0.534351  0.687027  0.550254\n",
       "\n",
       "[300 rows x 4 columns]"
      ]
     },
     "execution_count": 28,
     "metadata": {},
     "output_type": "execute_result"
    }
   ],
   "source": [
    "res\n"
   ]
  },
  {
   "cell_type": "code",
   "execution_count": 29,
   "id": "hindu-irish",
   "metadata": {},
   "outputs": [
    {
     "data": {
      "text/plain": [
       "<AxesSubplot:>"
      ]
     },
     "execution_count": 29,
     "metadata": {},
     "output_type": "execute_result"
    },
    {
     "data": {
      "image/png": "[encoded data removed]",
      "text/plain": [
       "<Figure size 1080x504 with 1 Axes>"
      ]
     },
     "metadata": {
      "needs_background": "light"
     },
     "output_type": "display_data"
    }
   ],
   "source": [
    "res[['accuracy', 'val_accuracy']].plot(figsize=(15,7), style='--')"
   ]
  },
  {
   "cell_type": "code",
   "execution_count": 30,
   "id": "brave-function",
   "metadata": {},
   "outputs": [
    {
     "name": "stdout",
     "output_type": "stream",
     "text": [
      "1965/1965 [==============================] - 0s 8us/step\n"
     ]
    },
    {
     "data": {
      "text/plain": [
       "[2.2884131854423737, 0.5180661678314209]"
      ]
     },
     "execution_count": 30,
     "metadata": {},
     "output_type": "execute_result"
    }
   ],
   "source": [
    "model.evaluate(training_data_[cols], training_data['direction'])"
   ]
  },
  {
   "cell_type": "code",
   "execution_count": 31,
   "id": "subjective-brown",
   "metadata": {},
   "outputs": [],
   "source": [
    "pred = np.where(model.predict(training_data_[cols]) > 0.5, 1, 0)"
   ]
  },
  {
   "cell_type": "code",
   "execution_count": 32,
   "id": "dated-promise",
   "metadata": {},
   "outputs": [
    {
     "data": {
      "text/plain": [
       "array([0, 1, 0, 1, 1, 0, 1, 1, 1, 0, 1, 0, 1, 1, 0, 0, 0, 1, 0, 1, 0, 1,\n",
       "       0, 1, 0, 1, 0, 1, 1, 1])"
      ]
     },
     "execution_count": 32,
     "metadata": {},
     "output_type": "execute_result"
    }
   ],
   "source": [
    "pred[:30].flatten()"
   ]
  },
  {
   "cell_type": "code",
   "execution_count": 33,
   "id": "material-microphone",
   "metadata": {},
   "outputs": [],
   "source": [
    "training_data['prediction'] = np.where(pred > 0, 1, -1)"
   ]
  },
  {
   "cell_type": "code",
   "execution_count": 34,
   "id": "flush-fleet",
   "metadata": {},
   "outputs": [],
   "source": [
    "training_data['strategy'] = (training_data['prediction'] * \n",
    "                            training_data['return'])"
   ]
  },
  {
   "cell_type": "code",
   "execution_count": 35,
   "id": "previous-aggregate",
   "metadata": {},
   "outputs": [
    {
     "data": {
      "text/plain": [
       "return      2.189494\n",
       "strategy    2.204221\n",
       "dtype: float64"
      ]
     },
     "execution_count": 35,
     "metadata": {},
     "output_type": "execute_result"
    }
   ],
   "source": [
    " training_data[['return', 'strategy']].sum().apply(np.exp)"
   ]
  },
  {
   "cell_type": "code",
   "execution_count": 36,
   "id": "stunning-easter",
   "metadata": {},
   "outputs": [
    {
     "data": {
      "text/plain": [
       "<AxesSubplot:xlabel='Date'>"
      ]
     },
     "execution_count": 36,
     "metadata": {},
     "output_type": "execute_result"
    },
    {
     "data": {
      "image/png": "[encoded data removed]",
      "text/plain": [
       "<Figure size 1080x504 with 1 Axes>"
      ]
     },
     "metadata": {
      "needs_background": "light"
     },
     "output_type": "display_data"
    }
   ],
   "source": [
    " training_data[['return', 'strategy']].cumsum().apply(np.exp).plot(figsize=(15,7))"
   ]
  },
  {
   "cell_type": "code",
   "execution_count": 37,
   "id": "accurate-illness",
   "metadata": {},
   "outputs": [
    {
     "name": "stdout",
     "output_type": "stream",
     "text": [
      "292/292 [==============================] - 0s 17us/step\n"
     ]
    },
    {
     "data": {
      "text/plain": [
       "[3.1507001641678483, 0.44863012433052063]"
      ]
     },
     "execution_count": 37,
     "metadata": {},
     "output_type": "execute_result"
    }
   ],
   "source": [
    "model.evaluate(test_data_[cols], test_data['direction'])"
   ]
  },
  {
   "cell_type": "code",
   "execution_count": 38,
   "id": "painful-workshop",
   "metadata": {},
   "outputs": [],
   "source": [
    "pred = np.where(model.predict(test_data_[cols]) > 0.5, 1, 0 )"
   ]
  },
  {
   "cell_type": "code",
   "execution_count": 39,
   "id": "advised-worry",
   "metadata": {},
   "outputs": [],
   "source": [
    "test_data['prediction'] = np.where(pred > 0, 1, -1)"
   ]
  },
  {
   "cell_type": "code",
   "execution_count": 40,
   "id": "detailed-monitor",
   "metadata": {},
   "outputs": [
    {
     "data": {
      "text/plain": [
       " 1    172\n",
       "-1    120\n",
       "Name: prediction, dtype: int64"
      ]
     },
     "execution_count": 40,
     "metadata": {},
     "output_type": "execute_result"
    }
   ],
   "source": [
    "test_data['prediction'].value_counts()"
   ]
  },
  {
   "cell_type": "code",
   "execution_count": 41,
   "id": "faced-driving",
   "metadata": {},
   "outputs": [],
   "source": [
    "test_data['strategy'] = (test_data['prediction'] * \n",
    "                        test_data['return'])"
   ]
  },
  {
   "cell_type": "code",
   "execution_count": 42,
   "id": "floppy-butterfly",
   "metadata": {},
   "outputs": [
    {
     "data": {
      "text/plain": [
       "return      0.987736\n",
       "strategy    0.806534\n",
       "dtype: float64"
      ]
     },
     "execution_count": 42,
     "metadata": {},
     "output_type": "execute_result"
    }
   ],
   "source": [
    "test_data[['return', 'strategy']].sum().apply(np.exp)"
   ]
  },
  {
   "cell_type": "code",
   "execution_count": 43,
   "id": "competent-andorra",
   "metadata": {},
   "outputs": [
    {
     "data": {
      "text/plain": [
       "<AxesSubplot:xlabel='Date'>"
      ]
     },
     "execution_count": 43,
     "metadata": {},
     "output_type": "execute_result"
    },
    {
     "data": {
      "image/png": "[encoded data removed]",
      "text/plain": [
       "<Figure size 1080x504 with 1 Axes>"
      ]
     },
     "metadata": {
      "needs_background": "light"
     },
     "output_type": "display_data"
    }
   ],
   "source": [
    "test_data[['return', 'strategy']].cumsum().apply(np.exp).plot(figsize=(15,7))"
   ]
  },
  {
   "cell_type": "code",
   "execution_count": null,
   "id": "chicken-reflection",
   "metadata": {},
   "outputs": [],
   "source": []
  },
  {
   "cell_type": "code",
   "execution_count": null,
   "id": "technological-cuisine",
   "metadata": {},
   "outputs": [],
   "source": []
  },
  {
   "cell_type": "code",
   "execution_count": 44,
   "id": "unlike-technique",
   "metadata": {},
   "outputs": [],
   "source": [
    "# Adding Different Types of Fetures \n",
    "djia_close['momentum'] = djia_close['return'].rolling(5).mean().shift(1)"
   ]
  },
  {
   "cell_type": "code",
   "execution_count": 45,
   "id": "protective-store",
   "metadata": {},
   "outputs": [],
   "source": [
    "djia_close['volatility'] = djia_close['return'].rolling(20).std().shift(1)"
   ]
  },
  {
   "cell_type": "code",
   "execution_count": 46,
   "id": "accompanied-maintenance",
   "metadata": {},
   "outputs": [],
   "source": [
    "djia_close['distance'] = (djia_close['price'] - \n",
    "                          djia_close['price'].rolling(50).mean()).shift(1)"
   ]
  },
  {
   "cell_type": "code",
   "execution_count": 47,
   "id": "international-nepal",
   "metadata": {},
   "outputs": [],
   "source": [
    "djia_close.dropna(inplace=True)\n"
   ]
  },
  {
   "cell_type": "code",
   "execution_count": 48,
   "id": "assumed-writer",
   "metadata": {},
   "outputs": [],
   "source": [
    "cols.extend(['momentum', 'volatility', 'distance'])"
   ]
  },
  {
   "cell_type": "code",
   "execution_count": null,
   "id": "guilty-occurrence",
   "metadata": {},
   "outputs": [],
   "source": []
  },
  {
   "cell_type": "code",
   "execution_count": 49,
   "id": "bottom-proxy",
   "metadata": {},
   "outputs": [
    {
     "name": "stdout",
     "output_type": "stream",
     "text": [
      "                 price  return  direction   lag_1   lag_2   lag_3   lag_4  \\\n",
      "Date                                                                        \n",
      "2018-12-21  22445.3691 -0.0183          0 -0.0201 -0.0150  0.0035 -0.0213   \n",
      "2018-12-24  21792.1992 -0.0295          0 -0.0183 -0.0201 -0.0150  0.0035   \n",
      "2018-12-26  22878.4492  0.0486          1 -0.0295 -0.0183 -0.0201 -0.0150   \n",
      "2018-12-27  23138.8203  0.0113          1  0.0486 -0.0295 -0.0183 -0.0201   \n",
      "2018-12-28  23062.4004 -0.0033          0  0.0113  0.0486 -0.0295 -0.0183   \n",
      "\n",
      "             lag_5  momentum  volatility   distance  \n",
      "Date                                                 \n",
      "2018-12-21 -0.0204   -0.0147      0.0144 -2124.1907  \n",
      "2018-12-24 -0.0213   -0.0142      0.0147 -2475.3537  \n",
      "2018-12-26  0.0035   -0.0159      0.0158 -3063.3110  \n",
      "2018-12-27 -0.0150   -0.0069      0.0195 -1927.8302  \n",
      "2018-12-28 -0.0201   -0.0016      0.0197 -1625.2245  \n"
     ]
    }
   ],
   "source": [
    "\n",
    "print(djia_close\n",
    "      .round(4).tail())"
   ]
  },
  {
   "cell_type": "code",
   "execution_count": 50,
   "id": "signed-adjustment",
   "metadata": {},
   "outputs": [],
   "source": [
    "training_data_new = djia_close[djia_close.index < cutoff].copy()"
   ]
  },
  {
   "cell_type": "code",
   "execution_count": null,
   "id": "graduate-heath",
   "metadata": {},
   "outputs": [],
   "source": []
  },
  {
   "cell_type": "code",
   "execution_count": 51,
   "id": "sublime-armstrong",
   "metadata": {},
   "outputs": [],
   "source": [
    "mu, std = training_data_new.mean(), training_data_new.std()"
   ]
  },
  {
   "cell_type": "code",
   "execution_count": 52,
   "id": "enormous-lindsay",
   "metadata": {},
   "outputs": [],
   "source": [
    "new_training_data_ = (training_data_new - mu) / std"
   ]
  },
  {
   "cell_type": "code",
   "execution_count": 53,
   "id": "maritime-locator",
   "metadata": {},
   "outputs": [],
   "source": [
    "test_data = djia_close[djia_close.index >= cutoff].copy()"
   ]
  },
  {
   "cell_type": "code",
   "execution_count": 54,
   "id": "typical-hammer",
   "metadata": {},
   "outputs": [
    {
     "data": {
      "text/html": [
       "<div>\n",
       "<style scoped>\n",
       "    .dataframe tbody tr th:only-of-type {\n",
       "        vertical-align: middle;\n",
       "    }\n",
       "\n",
       "    .dataframe tbody tr th {\n",
       "        vertical-align: top;\n",
       "    }\n",
       "\n",
       "    .dataframe thead th {\n",
       "        text-align: right;\n",
       "    }\n",
       "</style>\n",
       "<table border=\"1\" class=\"dataframe\">\n",
       "  <thead>\n",
       "    <tr style=\"text-align: right;\">\n",
       "      <th></th>\n",
       "      <th>price</th>\n",
       "      <th>return</th>\n",
       "      <th>direction</th>\n",
       "      <th>lag_1</th>\n",
       "      <th>lag_2</th>\n",
       "      <th>lag_3</th>\n",
       "      <th>lag_4</th>\n",
       "      <th>lag_5</th>\n",
       "    </tr>\n",
       "    <tr>\n",
       "      <th>Date</th>\n",
       "      <th></th>\n",
       "      <th></th>\n",
       "      <th></th>\n",
       "      <th></th>\n",
       "      <th></th>\n",
       "      <th></th>\n",
       "      <th></th>\n",
       "      <th></th>\n",
       "    </tr>\n",
       "  </thead>\n",
       "  <tbody>\n",
       "    <tr>\n",
       "      <th>2017-10-31</th>\n",
       "      <td>2.413964</td>\n",
       "      <td>0.094139</td>\n",
       "      <td>0.922818</td>\n",
       "      <td>-0.465030</td>\n",
       "      <td>0.117020</td>\n",
       "      <td>0.304188</td>\n",
       "      <td>-0.597103</td>\n",
       "      <td>0.777878</td>\n",
       "    </tr>\n",
       "    <tr>\n",
       "      <th>2017-11-01</th>\n",
       "      <td>2.431477</td>\n",
       "      <td>0.237259</td>\n",
       "      <td>0.922818</td>\n",
       "      <td>0.093676</td>\n",
       "      <td>-0.465010</td>\n",
       "      <td>0.117015</td>\n",
       "      <td>0.303926</td>\n",
       "      <td>-0.596705</td>\n",
       "    </tr>\n",
       "    <tr>\n",
       "      <th>2017-11-02</th>\n",
       "      <td>2.460693</td>\n",
       "      <td>0.424801</td>\n",
       "      <td>0.922818</td>\n",
       "      <td>0.236796</td>\n",
       "      <td>0.093696</td>\n",
       "      <td>-0.465014</td>\n",
       "      <td>0.116736</td>\n",
       "      <td>0.304455</td>\n",
       "    </tr>\n",
       "    <tr>\n",
       "      <th>2017-11-03</th>\n",
       "      <td>2.463060</td>\n",
       "      <td>-0.007686</td>\n",
       "      <td>0.922818</td>\n",
       "      <td>0.424339</td>\n",
       "      <td>0.236817</td>\n",
       "      <td>0.093692</td>\n",
       "      <td>-0.465346</td>\n",
       "      <td>0.117238</td>\n",
       "    </tr>\n",
       "    <tr>\n",
       "      <th>2017-11-06</th>\n",
       "      <td>2.465859</td>\n",
       "      <td>-0.000775</td>\n",
       "      <td>0.922818</td>\n",
       "      <td>-0.008150</td>\n",
       "      <td>0.424360</td>\n",
       "      <td>0.236812</td>\n",
       "      <td>0.093411</td>\n",
       "      <td>-0.464929</td>\n",
       "    </tr>\n",
       "    <tr>\n",
       "      <th>...</th>\n",
       "      <td>...</td>\n",
       "      <td>...</td>\n",
       "      <td>...</td>\n",
       "      <td>...</td>\n",
       "      <td>...</td>\n",
       "      <td>...</td>\n",
       "      <td>...</td>\n",
       "      <td>...</td>\n",
       "    </tr>\n",
       "    <tr>\n",
       "      <th>2018-12-21</th>\n",
       "      <td>2.131456</td>\n",
       "      <td>-2.142411</td>\n",
       "      <td>-1.083086</td>\n",
       "      <td>-2.350449</td>\n",
       "      <td>-1.763535</td>\n",
       "      <td>0.354831</td>\n",
       "      <td>-2.487000</td>\n",
       "      <td>-2.386325</td>\n",
       "    </tr>\n",
       "    <tr>\n",
       "      <th>2018-12-24</th>\n",
       "      <td>1.933439</td>\n",
       "      <td>-3.431760</td>\n",
       "      <td>-1.083086</td>\n",
       "      <td>-2.142884</td>\n",
       "      <td>-2.350433</td>\n",
       "      <td>-1.763537</td>\n",
       "      <td>0.354574</td>\n",
       "      <td>-2.486878</td>\n",
       "    </tr>\n",
       "    <tr>\n",
       "      <th>2018-12-26</th>\n",
       "      <td>2.262749</td>\n",
       "      <td>5.531495</td>\n",
       "      <td>0.922818</td>\n",
       "      <td>-3.432238</td>\n",
       "      <td>-2.142867</td>\n",
       "      <td>-2.350434</td>\n",
       "      <td>-1.763986</td>\n",
       "      <td>0.355111</td>\n",
       "    </tr>\n",
       "    <tr>\n",
       "      <th>2018-12-27</th>\n",
       "      <td>2.341684</td>\n",
       "      <td>1.251756</td>\n",
       "      <td>0.922818</td>\n",
       "      <td>5.531053</td>\n",
       "      <td>-3.432224</td>\n",
       "      <td>-2.142869</td>\n",
       "      <td>-2.350936</td>\n",
       "      <td>-1.763759</td>\n",
       "    </tr>\n",
       "    <tr>\n",
       "      <th>2018-12-28</th>\n",
       "      <td>2.318516</td>\n",
       "      <td>-0.425022</td>\n",
       "      <td>-1.083086</td>\n",
       "      <td>1.251296</td>\n",
       "      <td>5.531085</td>\n",
       "      <td>-3.432224</td>\n",
       "      <td>-2.143352</td>\n",
       "      <td>-2.350795</td>\n",
       "    </tr>\n",
       "  </tbody>\n",
       "</table>\n",
       "<p>292 rows × 8 columns</p>\n",
       "</div>"
      ],
      "text/plain": [
       "               price    return  direction     lag_1     lag_2     lag_3  \\\n",
       "Date                                                                      \n",
       "2017-10-31  2.413964  0.094139   0.922818 -0.465030  0.117020  0.304188   \n",
       "2017-11-01  2.431477  0.237259   0.922818  0.093676 -0.465010  0.117015   \n",
       "2017-11-02  2.460693  0.424801   0.922818  0.236796  0.093696 -0.465014   \n",
       "2017-11-03  2.463060 -0.007686   0.922818  0.424339  0.236817  0.093692   \n",
       "2017-11-06  2.465859 -0.000775   0.922818 -0.008150  0.424360  0.236812   \n",
       "...              ...       ...        ...       ...       ...       ...   \n",
       "2018-12-21  2.131456 -2.142411  -1.083086 -2.350449 -1.763535  0.354831   \n",
       "2018-12-24  1.933439 -3.431760  -1.083086 -2.142884 -2.350433 -1.763537   \n",
       "2018-12-26  2.262749  5.531495   0.922818 -3.432238 -2.142867 -2.350434   \n",
       "2018-12-27  2.341684  1.251756   0.922818  5.531053 -3.432224 -2.142869   \n",
       "2018-12-28  2.318516 -0.425022  -1.083086  1.251296  5.531085 -3.432224   \n",
       "\n",
       "               lag_4     lag_5  \n",
       "Date                            \n",
       "2017-10-31 -0.597103  0.777878  \n",
       "2017-11-01  0.303926 -0.596705  \n",
       "2017-11-02  0.116736  0.304455  \n",
       "2017-11-03 -0.465346  0.117238  \n",
       "2017-11-06  0.093411 -0.464929  \n",
       "...              ...       ...  \n",
       "2018-12-21 -2.487000 -2.386325  \n",
       "2018-12-24  0.354574 -2.486878  \n",
       "2018-12-26 -1.763986  0.355111  \n",
       "2018-12-27 -2.350936 -1.763759  \n",
       "2018-12-28 -2.143352 -2.350795  \n",
       "\n",
       "[292 rows x 8 columns]"
      ]
     },
     "execution_count": 54,
     "metadata": {},
     "output_type": "execute_result"
    }
   ],
   "source": [
    "test_data_"
   ]
  },
  {
   "cell_type": "code",
   "execution_count": 55,
   "id": "documented-steps",
   "metadata": {},
   "outputs": [],
   "source": [
    "test_data_ = (test_data - mu) / std"
   ]
  },
  {
   "cell_type": "code",
   "execution_count": null,
   "id": "appointed-blank",
   "metadata": {},
   "outputs": [],
   "source": []
  },
  {
   "cell_type": "code",
   "execution_count": 57,
   "id": "perfect-thailand",
   "metadata": {},
   "outputs": [],
   "source": [
    "set_seeds()\n",
    "model = Sequential()\n",
    "model.add(Dense(32, activation='relu',\n",
    "                input_shape=(len(cols),)))\n",
    "model.add(Dense(32, activation='relu'))\n",
    "model.add(Dense(1, activation='sigmoid'))\n",
    "model.compile(optimizer=optimizer,\n",
    "             loss='binary_crossentropy',\n",
    "             metrics=['accuracy'])"
   ]
  },
  {
   "cell_type": "code",
   "execution_count": null,
   "id": "commercial-joseph",
   "metadata": {},
   "outputs": [],
   "source": []
  },
  {
   "cell_type": "code",
   "execution_count": 58,
   "id": "pacific-biotechnology",
   "metadata": {},
   "outputs": [
    {
     "name": "stdout",
     "output_type": "stream",
     "text": [
      "Wall time: 1.13 s\n"
     ]
    },
    {
     "data": {
      "text/plain": [
       "<keras.callbacks.callbacks.History at 0x26a7eb1b748>"
      ]
     },
     "execution_count": 58,
     "metadata": {},
     "output_type": "execute_result"
    }
   ],
   "source": [
    "%%time\n",
    "model.fit(new_training_data_[cols], training_data_new['direction'],\n",
    "          verbose=False, epochs=25)"
   ]
  },
  {
   "cell_type": "code",
   "execution_count": 59,
   "id": "seasonal-counter",
   "metadata": {},
   "outputs": [
    {
     "name": "stdout",
     "output_type": "stream",
     "text": [
      "1915/1915 [==============================] - 0s 21us/step\n"
     ]
    },
    {
     "data": {
      "text/plain": [
       "[0.6799437691897698, 0.567624032497406]"
      ]
     },
     "execution_count": 59,
     "metadata": {},
     "output_type": "execute_result"
    }
   ],
   "source": [
    "model.evaluate(new_training_data_[cols], training_data_new['direction'])"
   ]
  },
  {
   "cell_type": "code",
   "execution_count": 60,
   "id": "sitting-binary",
   "metadata": {},
   "outputs": [],
   "source": [
    "pred = np.where(model.predict(new_training_data_[cols]) > 0.5, 1, 0)"
   ]
  },
  {
   "cell_type": "code",
   "execution_count": 61,
   "id": "monthly-prescription",
   "metadata": {},
   "outputs": [],
   "source": [
    "training_data_new['prediction'] = np.where(pred > 0, 1, -1)"
   ]
  },
  {
   "cell_type": "code",
   "execution_count": 62,
   "id": "molecular-southwest",
   "metadata": {},
   "outputs": [],
   "source": [
    "training_data_new['strategy'] = (training_data_new['prediction'] *\n",
    "                             training_data_new['return'])\n",
    "                             \n"
   ]
  },
  {
   "cell_type": "code",
   "execution_count": 63,
   "id": "accomplished-interaction",
   "metadata": {},
   "outputs": [
    {
     "data": {
      "text/plain": [
       "return      2.154708\n",
       "strategy    4.628474\n",
       "dtype: float64"
      ]
     },
     "execution_count": 63,
     "metadata": {},
     "output_type": "execute_result"
    }
   ],
   "source": [
    "training_data_new[['return', 'strategy']].sum().apply(np.exp)"
   ]
  },
  {
   "cell_type": "code",
   "execution_count": 64,
   "id": "inside-investment",
   "metadata": {},
   "outputs": [
    {
     "data": {
      "text/plain": [
       "<AxesSubplot:xlabel='Date'>"
      ]
     },
     "execution_count": 64,
     "metadata": {},
     "output_type": "execute_result"
    },
    {
     "data": {
      "image/png": "[encoded data removed]",
      "text/plain": [
       "<Figure size 1080x504 with 1 Axes>"
      ]
     },
     "metadata": {
      "needs_background": "light"
     },
     "output_type": "display_data"
    }
   ],
   "source": [
    "training_data_new[['return', 'strategy']].cumsum().apply(np.exp).plot(figsize=(15,7))"
   ]
  },
  {
   "cell_type": "code",
   "execution_count": 65,
   "id": "downtown-documentary",
   "metadata": {},
   "outputs": [
    {
     "data": {
      "text/html": [
       "<div>\n",
       "<style scoped>\n",
       "    .dataframe tbody tr th:only-of-type {\n",
       "        vertical-align: middle;\n",
       "    }\n",
       "\n",
       "    .dataframe tbody tr th {\n",
       "        vertical-align: top;\n",
       "    }\n",
       "\n",
       "    .dataframe thead th {\n",
       "        text-align: right;\n",
       "    }\n",
       "</style>\n",
       "<table border=\"1\" class=\"dataframe\">\n",
       "  <thead>\n",
       "    <tr style=\"text-align: right;\">\n",
       "      <th></th>\n",
       "      <th>price</th>\n",
       "      <th>return</th>\n",
       "      <th>direction</th>\n",
       "      <th>lag_1</th>\n",
       "      <th>lag_2</th>\n",
       "      <th>lag_3</th>\n",
       "      <th>lag_4</th>\n",
       "      <th>lag_5</th>\n",
       "      <th>momentum</th>\n",
       "      <th>volatility</th>\n",
       "      <th>distance</th>\n",
       "    </tr>\n",
       "    <tr>\n",
       "      <th>Date</th>\n",
       "      <th></th>\n",
       "      <th></th>\n",
       "      <th></th>\n",
       "      <th></th>\n",
       "      <th></th>\n",
       "      <th></th>\n",
       "      <th></th>\n",
       "      <th></th>\n",
       "      <th></th>\n",
       "      <th></th>\n",
       "      <th></th>\n",
       "    </tr>\n",
       "  </thead>\n",
       "  <tbody>\n",
       "    <tr>\n",
       "      <th>2017-10-31</th>\n",
       "      <td>23377.240234</td>\n",
       "      <td>0.001220</td>\n",
       "      <td>1</td>\n",
       "      <td>-0.003653</td>\n",
       "      <td>0.001423</td>\n",
       "      <td>0.003056</td>\n",
       "      <td>-0.004802</td>\n",
       "      <td>0.007184</td>\n",
       "      <td>0.000642</td>\n",
       "      <td>0.003386</td>\n",
       "      <td>880.433007</td>\n",
       "    </tr>\n",
       "    <tr>\n",
       "      <th>2017-11-01</th>\n",
       "      <td>23435.009766</td>\n",
       "      <td>0.002468</td>\n",
       "      <td>1</td>\n",
       "      <td>0.001220</td>\n",
       "      <td>-0.003653</td>\n",
       "      <td>0.001423</td>\n",
       "      <td>0.003056</td>\n",
       "      <td>-0.004802</td>\n",
       "      <td>-0.000551</td>\n",
       "      <td>0.003355</td>\n",
       "      <td>875.463203</td>\n",
       "    </tr>\n",
       "    <tr>\n",
       "      <th>2017-11-02</th>\n",
       "      <td>23531.380859</td>\n",
       "      <td>0.004104</td>\n",
       "      <td>1</td>\n",
       "      <td>0.002468</td>\n",
       "      <td>0.001220</td>\n",
       "      <td>-0.003653</td>\n",
       "      <td>0.001423</td>\n",
       "      <td>0.003056</td>\n",
       "      <td>0.000903</td>\n",
       "      <td>0.003356</td>\n",
       "      <td>902.530352</td>\n",
       "    </tr>\n",
       "    <tr>\n",
       "      <th>2017-11-03</th>\n",
       "      <td>23539.189453</td>\n",
       "      <td>0.000332</td>\n",
       "      <td>1</td>\n",
       "      <td>0.004104</td>\n",
       "      <td>0.002468</td>\n",
       "      <td>0.001220</td>\n",
       "      <td>-0.003653</td>\n",
       "      <td>0.001423</td>\n",
       "      <td>0.001112</td>\n",
       "      <td>0.003314</td>\n",
       "      <td>964.515624</td>\n",
       "    </tr>\n",
       "    <tr>\n",
       "      <th>2017-11-06</th>\n",
       "      <td>23548.419922</td>\n",
       "      <td>0.000392</td>\n",
       "      <td>1</td>\n",
       "      <td>0.000332</td>\n",
       "      <td>0.004104</td>\n",
       "      <td>0.002468</td>\n",
       "      <td>0.001220</td>\n",
       "      <td>-0.003653</td>\n",
       "      <td>0.000894</td>\n",
       "      <td>0.003304</td>\n",
       "      <td>937.208437</td>\n",
       "    </tr>\n",
       "    <tr>\n",
       "      <th>...</th>\n",
       "      <td>...</td>\n",
       "      <td>...</td>\n",
       "      <td>...</td>\n",
       "      <td>...</td>\n",
       "      <td>...</td>\n",
       "      <td>...</td>\n",
       "      <td>...</td>\n",
       "      <td>...</td>\n",
       "      <td>...</td>\n",
       "      <td>...</td>\n",
       "      <td>...</td>\n",
       "    </tr>\n",
       "    <tr>\n",
       "      <th>2018-12-21</th>\n",
       "      <td>22445.369141</td>\n",
       "      <td>-0.018287</td>\n",
       "      <td>0</td>\n",
       "      <td>-0.020097</td>\n",
       "      <td>-0.014978</td>\n",
       "      <td>0.003497</td>\n",
       "      <td>-0.021284</td>\n",
       "      <td>-0.020407</td>\n",
       "      <td>-0.014654</td>\n",
       "      <td>0.014375</td>\n",
       "      <td>-2124.190664</td>\n",
       "    </tr>\n",
       "    <tr>\n",
       "      <th>2018-12-24</th>\n",
       "      <td>21792.199219</td>\n",
       "      <td>-0.029532</td>\n",
       "      <td>0</td>\n",
       "      <td>-0.018287</td>\n",
       "      <td>-0.020097</td>\n",
       "      <td>-0.014978</td>\n",
       "      <td>0.003497</td>\n",
       "      <td>-0.021284</td>\n",
       "      <td>-0.014230</td>\n",
       "      <td>0.014726</td>\n",
       "      <td>-2475.353711</td>\n",
       "    </tr>\n",
       "    <tr>\n",
       "      <th>2018-12-26</th>\n",
       "      <td>22878.449219</td>\n",
       "      <td>0.048643</td>\n",
       "      <td>1</td>\n",
       "      <td>-0.029532</td>\n",
       "      <td>-0.018287</td>\n",
       "      <td>-0.020097</td>\n",
       "      <td>-0.014978</td>\n",
       "      <td>0.003497</td>\n",
       "      <td>-0.015879</td>\n",
       "      <td>0.015766</td>\n",
       "      <td>-3063.311015</td>\n",
       "    </tr>\n",
       "    <tr>\n",
       "      <th>2018-12-27</th>\n",
       "      <td>23138.820313</td>\n",
       "      <td>0.011316</td>\n",
       "      <td>1</td>\n",
       "      <td>0.048643</td>\n",
       "      <td>-0.029532</td>\n",
       "      <td>-0.018287</td>\n",
       "      <td>-0.020097</td>\n",
       "      <td>-0.014978</td>\n",
       "      <td>-0.006850</td>\n",
       "      <td>0.019454</td>\n",
       "      <td>-1927.830195</td>\n",
       "    </tr>\n",
       "    <tr>\n",
       "      <th>2018-12-28</th>\n",
       "      <td>23062.400391</td>\n",
       "      <td>-0.003308</td>\n",
       "      <td>0</td>\n",
       "      <td>0.011316</td>\n",
       "      <td>0.048643</td>\n",
       "      <td>-0.029532</td>\n",
       "      <td>-0.018287</td>\n",
       "      <td>-0.020097</td>\n",
       "      <td>-0.001591</td>\n",
       "      <td>0.019666</td>\n",
       "      <td>-1625.224492</td>\n",
       "    </tr>\n",
       "  </tbody>\n",
       "</table>\n",
       "<p>292 rows × 11 columns</p>\n",
       "</div>"
      ],
      "text/plain": [
       "                   price    return  direction     lag_1     lag_2     lag_3  \\\n",
       "Date                                                                          \n",
       "2017-10-31  23377.240234  0.001220          1 -0.003653  0.001423  0.003056   \n",
       "2017-11-01  23435.009766  0.002468          1  0.001220 -0.003653  0.001423   \n",
       "2017-11-02  23531.380859  0.004104          1  0.002468  0.001220 -0.003653   \n",
       "2017-11-03  23539.189453  0.000332          1  0.004104  0.002468  0.001220   \n",
       "2017-11-06  23548.419922  0.000392          1  0.000332  0.004104  0.002468   \n",
       "...                  ...       ...        ...       ...       ...       ...   \n",
       "2018-12-21  22445.369141 -0.018287          0 -0.020097 -0.014978  0.003497   \n",
       "2018-12-24  21792.199219 -0.029532          0 -0.018287 -0.020097 -0.014978   \n",
       "2018-12-26  22878.449219  0.048643          1 -0.029532 -0.018287 -0.020097   \n",
       "2018-12-27  23138.820313  0.011316          1  0.048643 -0.029532 -0.018287   \n",
       "2018-12-28  23062.400391 -0.003308          0  0.011316  0.048643 -0.029532   \n",
       "\n",
       "               lag_4     lag_5  momentum  volatility     distance  \n",
       "Date                                                               \n",
       "2017-10-31 -0.004802  0.007184  0.000642    0.003386   880.433007  \n",
       "2017-11-01  0.003056 -0.004802 -0.000551    0.003355   875.463203  \n",
       "2017-11-02  0.001423  0.003056  0.000903    0.003356   902.530352  \n",
       "2017-11-03 -0.003653  0.001423  0.001112    0.003314   964.515624  \n",
       "2017-11-06  0.001220 -0.003653  0.000894    0.003304   937.208437  \n",
       "...              ...       ...       ...         ...          ...  \n",
       "2018-12-21 -0.021284 -0.020407 -0.014654    0.014375 -2124.190664  \n",
       "2018-12-24  0.003497 -0.021284 -0.014230    0.014726 -2475.353711  \n",
       "2018-12-26 -0.014978  0.003497 -0.015879    0.015766 -3063.311015  \n",
       "2018-12-27 -0.020097 -0.014978 -0.006850    0.019454 -1927.830195  \n",
       "2018-12-28 -0.018287 -0.020097 -0.001591    0.019666 -1625.224492  \n",
       "\n",
       "[292 rows x 11 columns]"
      ]
     },
     "execution_count": 65,
     "metadata": {},
     "output_type": "execute_result"
    }
   ],
   "source": [
    "test_data"
   ]
  },
  {
   "cell_type": "code",
   "execution_count": null,
   "id": "complimentary-plane",
   "metadata": {},
   "outputs": [],
   "source": []
  },
  {
   "cell_type": "code",
   "execution_count": 66,
   "id": "liked-transportation",
   "metadata": {},
   "outputs": [
    {
     "name": "stdout",
     "output_type": "stream",
     "text": [
      "292/292 [==============================] - 0s 10us/step\n"
     ]
    },
    {
     "data": {
      "text/plain": [
       "[0.818775327238318, 0.0]"
      ]
     },
     "execution_count": 66,
     "metadata": {},
     "output_type": "execute_result"
    }
   ],
   "source": [
    "model.evaluate(test_data_[cols], test_data_['direction'])"
   ]
  },
  {
   "cell_type": "code",
   "execution_count": 67,
   "id": "stunning-nation",
   "metadata": {},
   "outputs": [],
   "source": [
    "pred = np.where(model.predict(test_data_[cols]) > 0.5, 1 , 0)"
   ]
  },
  {
   "cell_type": "code",
   "execution_count": 68,
   "id": "asian-massage",
   "metadata": {},
   "outputs": [],
   "source": [
    "test_data['prediction'] = np.where(pred > 0, 1, -1)"
   ]
  },
  {
   "cell_type": "code",
   "execution_count": 69,
   "id": "willing-knife",
   "metadata": {},
   "outputs": [
    {
     "data": {
      "text/plain": [
       " 1    240\n",
       "-1     52\n",
       "Name: prediction, dtype: int64"
      ]
     },
     "execution_count": 69,
     "metadata": {},
     "output_type": "execute_result"
    }
   ],
   "source": [
    "test_data['prediction'].value_counts()"
   ]
  },
  {
   "cell_type": "code",
   "execution_count": 70,
   "id": "hearing-equilibrium",
   "metadata": {},
   "outputs": [],
   "source": [
    "test_data['strategy'] = (test_data['prediction'] * \n",
    "                        test_data['return'])"
   ]
  },
  {
   "cell_type": "code",
   "execution_count": 71,
   "id": "signed-gibson",
   "metadata": {},
   "outputs": [
    {
     "data": {
      "text/plain": [
       "return      0.987736\n",
       "strategy    1.064827\n",
       "dtype: float64"
      ]
     },
     "execution_count": 71,
     "metadata": {},
     "output_type": "execute_result"
    }
   ],
   "source": [
    " test_data[['return', 'strategy']].sum().apply(np.exp)"
   ]
  },
  {
   "cell_type": "code",
   "execution_count": 72,
   "id": "aggregate-boundary",
   "metadata": {},
   "outputs": [
    {
     "data": {
      "text/plain": [
       "<AxesSubplot:xlabel='Date'>"
      ]
     },
     "execution_count": 72,
     "metadata": {},
     "output_type": "execute_result"
    },
    {
     "data": {
      "image/png": "[encoded data removed]",
      "text/plain": [
       "<Figure size 1080x504 with 1 Axes>"
      ]
     },
     "metadata": {
      "needs_background": "light"
     },
     "output_type": "display_data"
    }
   ],
   "source": [
    " test_data[['return', 'strategy']].cumsum().apply(np.exp).plot(figsize=(15,7))"
   ]
  },
  {
   "cell_type": "code",
   "execution_count": null,
   "id": "promising-formation",
   "metadata": {},
   "outputs": [],
   "source": []
  },
  {
   "cell_type": "code",
   "execution_count": null,
   "id": "occupied-explanation",
   "metadata": {},
   "outputs": [],
   "source": []
  }
 ],
 "metadata": {
  "kernelspec": {
   "display_name": "dev",
   "language": "python",
   "name": "dev"
  },
  "language_info": {
   "codemirror_mode": {
    "name": "ipython",
    "version": 3
   },
   "file_extension": ".py",
   "mimetype": "text/x-python",
   "name": "python",
   "nbconvert_exporter": "python",
   "pygments_lexer": "ipython3",
   "version": "3.7.9"
  }
 },
 "nbformat": 4,
 "nbformat_minor": 5
}
