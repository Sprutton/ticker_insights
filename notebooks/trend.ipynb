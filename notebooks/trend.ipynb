{
 "cells": [
  {
   "cell_type": "code",
   "execution_count": 1,
   "metadata": {},
   "outputs": [],
   "source": [
    "import pandas as pd\n",
    "import numpy as np\n",
    "import matplotlib.pyplot as plt"
   ]
  },
  {
   "cell_type": "code",
   "execution_count": 3,
   "metadata": {},
   "outputs": [],
   "source": [
    "data_path = '../data/'\n",
    "df = pd.read_csv(data_path+'SPY.csv', index_col='Date', parse_dates=True)"
   ]
  },
  {
   "cell_type": "code",
   "execution_count": 4,
   "metadata": {},
   "outputs": [],
   "source": [
    "# make features\n",
    "df['FastSMA']  = df['Close'].rolling(16).mean()\n",
    "df['SlowSMA']  = df['Close'].rolling(33).mean()\n",
    "feats = ['FastSMA', 'SlowSMA']"
   ]
  },
  {
   "cell_type": "code",
   "execution_count": 5,
   "metadata": {},
   "outputs": [],
   "source": [
    "df['LogReturn'] = np.log(df['Close']).diff()"
   ]
  },
  {
   "cell_type": "code",
   "execution_count": 6,
   "metadata": {},
   "outputs": [],
   "source": [
    "# split into train and test\n",
    "Ntest = 1000\n",
    "train_data = df.iloc[:-Ntest].copy()\n",
    "test_data = df.iloc[-Ntest:].copy()"
   ]
  },
  {
   "cell_type": "code",
   "execution_count": 7,
   "metadata": {},
   "outputs": [],
   "source": [
    "class Env:\n",
    "  def __init__(self, df):\n",
    "    self.df = df\n",
    "    self.n = len(df)\n",
    "    self.current_idx = 0\n",
    "    self.action_space = [0, 1, 2] # BUY, SELL, HOLD\n",
    "    self.invested = 0\n",
    "\n",
    "    self.states = self.df[feats].to_numpy()\n",
    "    self.rewards = self.df['LogReturn'].to_numpy()\n",
    "    self.total_buy_and_hold = 0\n",
    "\n",
    "  def reset(self):\n",
    "    self.current_idx = 0\n",
    "    self.total_buy_and_hold = 0\n",
    "    self.invested = 0\n",
    "    return self.states[self.current_idx]\n",
    "\n",
    "  def step(self, action):\n",
    "    # need to return (next_state, reward, done)\n",
    "    self.current_idx += 1\n",
    "    if self.current_idx >= self.n:\n",
    "      raise Exception(\"Episode already done\")\n",
    "\n",
    "    if action == 0: # BUY\n",
    "      self.invested = 1\n",
    "    elif action == 1: # SELL\n",
    "      self.invested = 0\n",
    "    \n",
    "    # compute reward\n",
    "    if self.invested:\n",
    "      reward = self.rewards[self.current_idx]\n",
    "    else:\n",
    "      reward = 0\n",
    "\n",
    "    # state transition\n",
    "    next_state = self.states[self.current_idx]\n",
    "\n",
    "    # baseline\n",
    "    self.total_buy_and_hold += self.rewards[self.current_idx]\n",
    "\n",
    "    # done flag\n",
    "    done = (self.current_idx == self.n - 1)\n",
    "    return next_state, reward, done"
   ]
  },
  {
   "cell_type": "code",
   "execution_count": 8,
   "metadata": {},
   "outputs": [],
   "source": [
    "class Agent:\n",
    "  def __init__(self):\n",
    "    self.is_invested = False\n",
    "\n",
    "  def act(self, state):\n",
    "    assert(len(state) == 2)\n",
    "    # (fast, slow)\n",
    "\n",
    "    if state[0] > state[1] and not self.is_invested:\n",
    "      self.is_invested = True\n",
    "      return 0 # Buy\n",
    "\n",
    "    if state[0] < state[1] and self.is_invested:\n",
    "      self.is_invested = False\n",
    "      return 1 # sell\n",
    "\n",
    "    return 2 # Do nothing"
   ]
  },
  {
   "cell_type": "code",
   "execution_count": 9,
   "metadata": {},
   "outputs": [],
   "source": [
    "def play_one_episode(agent, env):\n",
    "  state = env.reset()\n",
    "  done = False\n",
    "  total_reward = 0\n",
    "  agent.is_invested = False\n",
    "\n",
    "  while not done:\n",
    "    action = agent.act(state)\n",
    "    next_state, reward, done = env.step(action)\n",
    "    total_reward += reward\n",
    "    state = next_state\n",
    "\n",
    "  return total_reward"
   ]
  },
  {
   "cell_type": "code",
   "execution_count": 12,
   "metadata": {},
   "outputs": [],
   "source": [
    "#create 2 environments (training and testing)\n",
    "train_env = Env(train_data)\n",
    "test_env = Env(test_data)"
   ]
  },
  {
   "cell_type": "code",
   "execution_count": 13,
   "metadata": {},
   "outputs": [],
   "source": [
    "#instanciate agent\n",
    "agent = Agent()"
   ]
  },
  {
   "cell_type": "code",
   "execution_count": 15,
   "metadata": {},
   "outputs": [],
   "source": [
    "train_reward = play_one_episode(agent, train_env)"
   ]
  },
  {
   "cell_type": "code",
   "execution_count": 16,
   "metadata": {},
   "outputs": [],
   "source": [
    "test_reward = play_one_episode(agent, test_env)"
   ]
  },
  {
   "cell_type": "code",
   "execution_count": 17,
   "metadata": {},
   "outputs": [
    {
     "data": {
      "text/plain": [
       "(0.43459304796456966, 0.5970866514889392)"
      ]
     },
     "execution_count": 17,
     "metadata": {},
     "output_type": "execute_result"
    }
   ],
   "source": [
    "train_reward, train_env.total_buy_and_hold"
   ]
  },
  {
   "cell_type": "code",
   "execution_count": 18,
   "metadata": {},
   "outputs": [
    {
     "data": {
      "text/plain": [
       "(0.08889132894199214, 0.19307543946998518)"
      ]
     },
     "execution_count": 18,
     "metadata": {},
     "output_type": "execute_result"
    }
   ],
   "source": [
    "test_reward, test_env.total_buy_and_hold"
   ]
  },
  {
   "cell_type": "code",
   "execution_count": null,
   "metadata": {},
   "outputs": [],
   "source": []
  }
 ],
 "metadata": {
  "kernelspec": {
   "display_name": "Python 3",
   "language": "python",
   "name": "python3"
  },
  "language_info": {
   "codemirror_mode": {
    "name": "ipython",
    "version": 3
   },
   "file_extension": ".py",
   "mimetype": "text/x-python",
   "name": "python",
   "nbconvert_exporter": "python",
   "pygments_lexer": "ipython3",
   "version": "3.8.5"
  }
 },
 "nbformat": 4,
 "nbformat_minor": 4
}
